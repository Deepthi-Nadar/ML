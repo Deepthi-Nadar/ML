{
  "nbformat": 4,
  "nbformat_minor": 0,
  "metadata": {
    "colab": {
      "provenance": [],
      "gpuType": "T4",
      "authorship_tag": "ABX9TyMs0x6oe4Vl1Oz7CfeVwU5T",
      "include_colab_link": true
    },
    "kernelspec": {
      "name": "python3",
      "display_name": "Python 3"
    },
    "language_info": {
      "name": "python"
    },
    "accelerator": "GPU"
  },
  "cells": [
    {
      "cell_type": "markdown",
      "metadata": {
        "id": "view-in-github",
        "colab_type": "text"
      },
      "source": [
        "<a href=\"https://colab.research.google.com/github/Deepthi-Nadar/ML/blob/main/chatGPT_model.ipynb\" target=\"_parent\"><img src=\"https://colab.research.google.com/assets/colab-badge.svg\" alt=\"Open In Colab\"/></a>"
      ]
    },
    {
      "cell_type": "code",
      "execution_count": 3,
      "metadata": {
        "id": "4AJKYr7BNz8f"
      },
      "outputs": [],
      "source": [
        "import os\n",
        "import numpy as np\n",
        "import pandas as pd\n",
        "from openai import OpenAI\n",
        "from sklearn.metrics.pairwise import cosine_similarity\n",
        "import re\n",
        "from typing import List, Dict, Any, Tuple\n",
        "import pickle\n",
        "import time\n",
        "from google.colab import files\n",
        "import textwrap"
      ]
    },
    {
      "cell_type": "code",
      "source": [
        "def setup_openai_api():\n",
        "  api_key=\"Use your own api key\"\n",
        "  os.environ[\"OPENAI_API_KEY\"]=api_key\n",
        "\n",
        "  client = OpenAI(api_key=api_key)\n",
        "  return client"
      ],
      "metadata": {
        "id": "4CB4HvZ2Oh5q"
      },
      "execution_count": 4,
      "outputs": []
    },
    {
      "cell_type": "code",
      "source": [
        "def test_chatgpt(client):\n",
        "    print(\"\\n=== Chatgpt Test ===\")\n",
        "    print(\"Type 'exit' to quit the test\")\n",
        "    while True:\n",
        "        user_input = input(\"\\n Enter your message: \")\n",
        "        if user_input.lower() == 'exit':\n",
        "            break\n",
        "\n",
        "        try:\n",
        "            response = client.chat.completions.create(\n",
        "                model=\"gpt-3.5-turbo\",\n",
        "                messages=[\n",
        "                    {\"role\": \"system\", \"content\": \"You are a helpful assistant.\"},\n",
        "                    {\"role\": \"user\", \"content\": user_input}\n",
        "                ],\n",
        "                temperature=0.7\n",
        "            )\n",
        "\n",
        "            print('\\n Chatgpt Response:')\n",
        "            print(response.choices[0].message.content)\n",
        "\n",
        "        except Exception as e:\n",
        "            print(f\"An error occurred: {e}\")\n"
      ],
      "metadata": {
        "id": "_tc_bYgtO9zJ"
      },
      "execution_count": 10,
      "outputs": []
    },
    {
      "cell_type": "code",
      "source": [
        "def main():\n",
        "  try:\n",
        "    import openai\n",
        "  except ImportError:\n",
        "    print(\"Installing OpenAI...\")\n",
        "    !pip install openai\n",
        "    import openai\n",
        "\n",
        "  print(\"Testing ChatGPT API Connection...\")\n",
        "  print(\"=================================\")\n"
      ],
      "metadata": {
        "id": "DNS41fhWQF53"
      },
      "execution_count": 11,
      "outputs": []
    },
    {
      "cell_type": "code",
      "source": [
        "main()"
      ],
      "metadata": {
        "colab": {
          "base_uri": "https://localhost:8080/"
        },
        "id": "xZb7wH5eQz9n",
        "outputId": "252fd0ed-2e18-4586-c255-8418d17a0569"
      },
      "execution_count": 12,
      "outputs": [
        {
          "output_type": "stream",
          "name": "stdout",
          "text": [
            "Testing ChatGPT API Connection...\n",
            "=================================\n"
          ]
        }
      ]
    },
    {
      "cell_type": "code",
      "source": [
        "client = setup_openai_api()\n",
        "print('ran successfully')"
      ],
      "metadata": {
        "colab": {
          "base_uri": "https://localhost:8080/"
        },
        "id": "xp-2_53dQ1KL",
        "outputId": "2b86a7fb-ff43-4535-ec53-f39a5b89cbe2"
      },
      "execution_count": 13,
      "outputs": [
        {
          "output_type": "stream",
          "name": "stdout",
          "text": [
            "ran successfully\n"
          ]
        }
      ]
    },
    {
      "cell_type": "code",
      "source": [
        "test_chatgpt(client)\n",
        "print(\"\\n Test completed.\")"
      ],
      "metadata": {
        "colab": {
          "base_uri": "https://localhost:8080/"
        },
        "id": "q7D_k568RKQ_",
        "outputId": "b22ea305-3977-4d07-d7b1-78fa9ca4146f"
      },
      "execution_count": null,
      "outputs": [
        {
          "output_type": "stream",
          "name": "stdout",
          "text": [
            "\n",
            "=== Chatgpt Test ===\n",
            "Type 'exit' to quit the test\n",
            "\n",
            " Enter your message: Hello\n",
            "\n",
            " Chatgpt Response:\n",
            "Hello! How can I assist you today?\n"
          ]
        }
      ]
    }
  ]
}